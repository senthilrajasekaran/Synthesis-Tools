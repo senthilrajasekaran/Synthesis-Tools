{
 "cells": [
  {
   "cell_type": "code",
   "execution_count": 1,
   "id": "d5f2e820",
   "metadata": {},
   "outputs": [],
   "source": [
    "from z3 import *\n",
    "def term_generator(variables, constant_symbols, unary_operators, sym_bin_operators, asym_bin_operators,depth):\n",
    "    \n",
    "    if depth == 0:\n",
    "        return variables + constant_symbols\n",
    "    \n",
    "    else:\n",
    "        previous = []\n",
    "        for d in range(0, depth): \n",
    "            previous += term_generator(variables, constant_symbols, unary_operators, sym_bin_operators, asym_bin_operators,d)\n",
    "        new = []\n",
    "        \n",
    "        for i in unary_operators:\n",
    "            for j in previous:\n",
    "                term = i + \"(\" + j + \")\"\n",
    "                if is_not_big_constant(term,variables):\n",
    "                    new.append( term )\n",
    "                \n",
    "        for i in asym_bin_operators:\n",
    "            for j in range(len(previous)):\n",
    "                for k in range(len(previous)):\n",
    "                    term = \"(\" + previous[j] + i + previous[k] +\")\"\n",
    "                    if is_not_big_constant(term,variables):\n",
    "                        new.append( term )\n",
    "                        \n",
    "                        \n",
    "        for i in sym_bin_operators:\n",
    "            for j in range(len(previous)):\n",
    "                for k in range(j,len(previous)):\n",
    "                    term =  \"(\" + previous[j] + i + previous[k] +\")\"\n",
    "                    if is_not_big_constant(term,variables):\n",
    "                        new.append( term )\n",
    "                    \n",
    "        return new + variables + constant_symbols\n",
    "                    \n",
    "    \n",
    "    \n",
    "def is_not_big_constant(term,variables):\n",
    "    \n",
    "    if len(term) == 1:\n",
    "        return True\n",
    "    #eiher a small constant (1 symbol) or a variable\n",
    "    for i in variables:\n",
    "        if i in term:\n",
    "            return True\n",
    "    return False\n",
    "\n",
    "\n",
    "\n",
    "\n",
    "        "
   ]
  },
  {
   "cell_type": "code",
   "execution_count": 23,
   "id": "5c23a731",
   "metadata": {},
   "outputs": [
    {
     "ename": "SyntaxError",
     "evalue": "invalid syntax (Temp/ipykernel_23372/4149441412.py, line 1)",
     "output_type": "error",
     "traceback": [
      "\u001b[1;36m  File \u001b[1;32m\"C:\\Users\\sr79\\AppData\\Local\\Temp/ipykernel_23372/4149441412.py\"\u001b[1;36m, line \u001b[1;32m1\u001b[0m\n\u001b[1;33m    pip install z3-solver\u001b[0m\n\u001b[1;37m        ^\u001b[0m\n\u001b[1;31mSyntaxError\u001b[0m\u001b[1;31m:\u001b[0m invalid syntax\n"
     ]
    }
   ],
   "source": [
    "pip install z3-solver\n",
    "#Should already be installed"
   ]
  },
  {
   "cell_type": "code",
   "execution_count": 9,
   "id": "0b3b7fe0",
   "metadata": {},
   "outputs": [],
   "source": [
    "sample_terms = term_generator([\"x\", \"y\"],  ['1','2'], [] , [\"+\",\"*\"], [\"-\"], 1 )\n",
    "variables = [\"x1\",\"y1\"]"
   ]
  },
  {
   "cell_type": "code",
   "execution_count": 10,
   "id": "ac853ca9",
   "metadata": {},
   "outputs": [
    {
     "data": {
      "text/plain": [
       "['(x-x)',\n",
       " '(x-y)',\n",
       " '(x-1)',\n",
       " '(x-2)',\n",
       " '(y-x)',\n",
       " '(y-y)',\n",
       " '(y-1)',\n",
       " '(y-2)',\n",
       " '(1-x)',\n",
       " '(1-y)',\n",
       " '(2-x)',\n",
       " '(2-y)',\n",
       " '(x+x)',\n",
       " '(x+y)',\n",
       " '(x+1)',\n",
       " '(x+2)',\n",
       " '(y+y)',\n",
       " '(y+1)',\n",
       " '(y+2)',\n",
       " '(x*x)',\n",
       " '(x*y)',\n",
       " '(x*1)',\n",
       " '(x*2)',\n",
       " '(y*y)',\n",
       " '(y*1)',\n",
       " '(y*2)',\n",
       " 'x',\n",
       " 'y',\n",
       " '1',\n",
       " '2']"
      ]
     },
     "execution_count": 10,
     "metadata": {},
     "output_type": "execute_result"
    }
   ],
   "source": [
    "sample_terms"
   ]
  },
  {
   "cell_type": "code",
   "execution_count": 21,
   "id": "2a7c9493",
   "metadata": {},
   "outputs": [
    {
     "name": "stdout",
     "output_type": "stream",
     "text": [
      "Solution found with assignment statement \n",
      "x1==0\n",
      "y1==y\n"
     ]
    },
    {
     "data": {
      "text/plain": [
       "1"
      ]
     },
     "execution_count": 21,
     "metadata": {},
     "output_type": "execute_result"
    }
   ],
   "source": [
    "from z3 import *\n",
    "\n",
    "def collapse_terms(sample_terms):\n",
    "    new_terms = []\n",
    "    \n",
    "    \n",
    "    for i in range(len(sample_terms)):\n",
    "        simplified_term = str(simplify(eval(sample_terms[i])))\n",
    "        if simplified_term not in new_terms:\n",
    "            new_terms.append(simplified_term)\n",
    "            \n",
    "    return new_terms\n",
    "\n",
    "def protected_simplify(z3string, variable):\n",
    "    \n",
    "    if \"/0\" not in z3string:\n",
    "        return str(simplify(eval(z3string)))\n",
    "    else:\n",
    "        return variable\n",
    "    \n",
    "\n",
    "\n",
    "def proto_test():\n",
    "\n",
    "    x = Int('x')\n",
    "    y = Int('y')\n",
    "    x1 = Int('x1')\n",
    "    y1 = Int('y1')\n",
    "    #a = collapse_terms(sample_terms)\n",
    "    #print(a)\n",
    "\n",
    "    #print(str(simplify(eval(\"x + y + 2*x + 3\"))))\n",
    "    solution_found = False\n",
    "    for i in range(len(sample_terms)):\n",
    "        for j in range(len(sample_terms)):\n",
    "\n",
    "            # division by zero is  still a big problem. Temporarily avoiding the issue by removing the division symbol.\n",
    "            # division by zero raises a z3 exception, which we need to test for in protected_simplify\n",
    "            # it doesn't work like a boolean or a regular python object, so we can't text for existence/falsity\n",
    "            s1 = \"x1\" + \"==\" + protected_simplify(sample_terms[i],\"x1\")\n",
    "            s2 = \"y1\" + \"==\" + protected_simplify(sample_terms[j],\"y1\")\n",
    "\n",
    "\n",
    "\n",
    "            solver = Solver()\n",
    "            # (y>0) co (y1=y and x1<=y1)\n",
    "            solver.add ( y > 0 )\n",
    "            solver.add (Not(And(y1 == y, x1 <= y1)))\n",
    "        \n",
    "            solver.add(eval(s1))\n",
    "            solver.add(eval(s2)) #plug in here from term generator, 2 lines of the program to be synthesized.\n",
    "            #         solver.add(y1 == y)\n",
    "            #         solver.add(x1 <= y1)\n",
    "\n",
    "            if solver.check() != sat:\n",
    "                s = 'Solution found with assignment statement \\n' + s1 + '\\n' + s2\n",
    "                \n",
    "                print( s)\n",
    "                return 1\n",
    "                #solution_found = True\n",
    "                \n",
    "    print(\"No solutions found\")\n",
    "    return(0)\n",
    "        \n",
    "\n",
    "proto_test()    \n",
    "# y > 0 , x = 2*y, x > y (end is negated due to validity testing)\n",
    "# should return No solution found"
   ]
  },
  {
   "cell_type": "code",
   "execution_count": null,
   "id": "ae8c132f",
   "metadata": {},
   "outputs": [],
   "source": []
  }
 ],
 "metadata": {
  "kernelspec": {
   "display_name": "Python 3 (ipykernel)",
   "language": "python",
   "name": "python3"
  },
  "language_info": {
   "codemirror_mode": {
    "name": "ipython",
    "version": 3
   },
   "file_extension": ".py",
   "mimetype": "text/x-python",
   "name": "python",
   "nbconvert_exporter": "python",
   "pygments_lexer": "ipython3",
   "version": "3.9.7"
  }
 },
 "nbformat": 4,
 "nbformat_minor": 5
}
